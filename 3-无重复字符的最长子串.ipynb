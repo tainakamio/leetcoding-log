{
 "cells": [
  {
   "cell_type": "markdown",
   "metadata": {},
   "source": [
    "几个边界条件：\n",
    "\n",
    "1.空字串直接返回0，因此将max初始化为0\n",
    "\n",
    "2.只有一个字母时，结果是1，所以起点（start）要位于字串第一个字母的左边，也就是-1\n",
    "\n",
    "3.遇到重复字母时，起点移到该字母往后数第一个与其重复的字母上\n",
    "\n",
    "4.起点只能前进不能后退"
   ]
  },
  {
   "cell_type": "code",
   "execution_count": 1,
   "metadata": {},
   "outputs": [],
   "source": [
    "def lengthOfLongestSubstring(s):\n",
    "        d=dict()\n",
    "        start=-1 #边界2\n",
    "        max=0 #边界1\n",
    "        for i in range(len(s)):\n",
    "            if s[i] in d and d[s[i]]>start: #and后面的条件，为应对边界4\n",
    "                start=d[s[i]] #边界3\n",
    "            d[s[i]]=i\n",
    "            if i-start > max:\n",
    "                max=i-start\n",
    "        return max "
   ]
  },
  {
   "cell_type": "code",
   "execution_count": 2,
   "metadata": {
    "collapsed": true
   },
   "outputs": [
    {
     "data": {
      "text/plain": [
       "0"
      ]
     },
     "execution_count": 2,
     "metadata": {},
     "output_type": "execute_result"
    }
   ],
   "source": [
    "lengthOfLongestSubstring('a')#边界2"
   ]
  },
  {
   "cell_type": "code",
   "execution_count": null,
   "metadata": {},
   "outputs": [],
   "source": [
    "lengthOfLongestSubstring('')#边界1"
   ]
  },
  {
   "cell_type": "code",
   "execution_count": null,
   "metadata": {},
   "outputs": [],
   "source": [
    "lengthOfLongestSubstring('abab')"
   ]
  },
  {
   "cell_type": "code",
   "execution_count": null,
   "metadata": {},
   "outputs": [],
   "source": [
    "lengthOfLongestSubstring('abac')"
   ]
  },
  {
   "cell_type": "code",
   "execution_count": null,
   "metadata": {},
   "outputs": [],
   "source": [
    "lengthOfLongestSubstring('abba')#边界4"
   ]
  }
 ],
 "metadata": {
  "kernelspec": {
   "display_name": "Python 3",
   "language": "python",
   "name": "python3"
  },
  "language_info": {
   "codemirror_mode": {
    "name": "ipython",
    "version": 3
   },
   "file_extension": ".py",
   "mimetype": "text/x-python",
   "name": "python",
   "nbconvert_exporter": "python",
   "pygments_lexer": "ipython3",
   "version": "3.7.6"
  }
 },
 "nbformat": 4,
 "nbformat_minor": 4
}
