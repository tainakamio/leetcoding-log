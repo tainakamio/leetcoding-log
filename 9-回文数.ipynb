{
 "cells": [
  {
   "cell_type": "markdown",
   "metadata": {},
   "source": [
    "## 标准解法\n",
    "\n",
    "1.题目要求不允许转为字串\n",
    "\n",
    "2.需要避免倒转整个数字后可能出现的溢出问题"
   ]
  },
  {
   "cell_type": "code",
   "execution_count": null,
   "metadata": {},
   "outputs": [],
   "source": []
  },
  {
   "cell_type": "markdown",
   "metadata": {},
   "source": [
    "## 其他方案\n",
    "\n",
    "放松题干的约束，假设可以转为字符串"
   ]
  },
  {
   "cell_type": "code",
   "execution_count": null,
   "metadata": {},
   "outputs": [],
   "source": [
    "def isPalindrome(x):\n",
    "        if x<0:\n",
    "            return False\n",
    "        elif 0<=x<10:\n",
    "            return True\n",
    "        else:\n",
    "            s=str(x)\n",
    "            l=[0]*(len(s))\n",
    "            for i in range(len(s)):\n",
    "                l[i]=s[i]\n",
    "            stillOK=True\n",
    "            while len(l)>1 and stillOK:\n",
    "                a=l.pop(0)\n",
    "                b=l.pop()\n",
    "                if a!=b:\n",
    "                    stillOK=False\n",
    "            return stillOK"
   ]
  }
 ],
 "metadata": {
  "kernelspec": {
   "display_name": "Python 3",
   "language": "python",
   "name": "python3"
  },
  "language_info": {
   "codemirror_mode": {
    "name": "ipython",
    "version": 3
   },
   "file_extension": ".py",
   "mimetype": "text/x-python",
   "name": "python",
   "nbconvert_exporter": "python",
   "pygments_lexer": "ipython3",
   "version": "3.7.6"
  }
 },
 "nbformat": 4,
 "nbformat_minor": 4
}
