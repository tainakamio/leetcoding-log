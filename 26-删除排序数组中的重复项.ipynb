{
 "cells": [
  {
   "cell_type": "markdown",
   "metadata": {},
   "source": [
    "不考虑题目限制的话，可以用集合直接求解"
   ]
  },
  {
   "cell_type": "code",
   "execution_count": null,
   "metadata": {},
   "outputs": [],
   "source": [
    "def removeDuplicates(nums):\n",
    "    s=set(nums)\n",
    "    return len(s)"
   ]
  },
  {
   "cell_type": "code",
   "execution_count": 2,
   "metadata": {},
   "outputs": [
    {
     "data": {
      "text/plain": [
       "3"
      ]
     },
     "execution_count": 2,
     "metadata": {},
     "output_type": "execute_result"
    }
   ],
   "source": [
    "removeDuplicates([1,1,2,2,3])"
   ]
  },
  {
   "cell_type": "markdown",
   "metadata": {},
   "source": [
    "题目要求原地修改列表nums，忽略这一点的话，可以用如下方式计算。\n",
    "\n",
    "这种方法不会使nums发生改变"
   ]
  },
  {
   "cell_type": "code",
   "execution_count": 20,
   "metadata": {},
   "outputs": [],
   "source": [
    "def removeDuplicates2(nums):\n",
    "    l=len(nums)\n",
    "    for i in range(len(nums)-1):\n",
    "        if nums[i]==nums[i+1]:\n",
    "            l=l-1\n",
    "    return l"
   ]
  },
  {
   "cell_type": "code",
   "execution_count": 25,
   "metadata": {},
   "outputs": [
    {
     "data": {
      "text/plain": [
       "2"
      ]
     },
     "execution_count": 25,
     "metadata": {},
     "output_type": "execute_result"
    }
   ],
   "source": [
    "removeDuplicates2([1,1,2])"
   ]
  },
  {
   "cell_type": "markdown",
   "metadata": {},
   "source": [
    "## 官方答案——双指针法\n",
    "\n",
    "返回答案的同时，也原地修改了nums"
   ]
  },
  {
   "cell_type": "code",
   "execution_count": 40,
   "metadata": {},
   "outputs": [],
   "source": [
    "def removeDuplicates3(nums):\n",
    "            slow=0\n",
    "            fast=1\n",
    "            l=len(nums)\n",
    "            for fast in range(1,l):\n",
    "                if nums[fast]!=nums[fast-1]:\n",
    "                    slow+=1\n",
    "                    nums[slow]=nums[fast]\n",
    "            return slow+1"
   ]
  },
  {
   "cell_type": "markdown",
   "metadata": {},
   "source": [
    "也可以让双指针的起点相同，相应地在范围等细节处稍作修改即可"
   ]
  },
  {
   "cell_type": "code",
   "execution_count": 42,
   "metadata": {},
   "outputs": [],
   "source": [
    "def removeDuplicates4(nums):\n",
    "            slow=0\n",
    "            fast=0\n",
    "            l=len(nums)\n",
    "            for fast in range(l-1):\n",
    "                if nums[fast]!=nums[fast+1]:\n",
    "                    slow+=1\n",
    "                    nums[slow]=nums[fast+1]\n",
    "            return slow+1"
   ]
  },
  {
   "cell_type": "code",
   "execution_count": null,
   "metadata": {},
   "outputs": [],
   "source": []
  }
 ],
 "metadata": {
  "kernelspec": {
   "display_name": "Python 3",
   "language": "python",
   "name": "python3"
  },
  "language_info": {
   "codemirror_mode": {
    "name": "ipython",
    "version": 3
   },
   "file_extension": ".py",
   "mimetype": "text/x-python",
   "name": "python",
   "nbconvert_exporter": "python",
   "pygments_lexer": "ipython3",
   "version": "3.7.6"
  }
 },
 "nbformat": 4,
 "nbformat_minor": 4
}
