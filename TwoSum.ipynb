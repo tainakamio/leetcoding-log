{
 "cells": [
  {
   "cell_type": "markdown",
   "metadata": {},
   "source": [
    "# TwoSum\n",
    "\n",
    "LeetCode第一题"
   ]
  },
  {
   "cell_type": "markdown",
   "metadata": {},
   "source": [
    "自己写的，无法解决同一个元素重复出现的问题。错误原因尚未找到。"
   ]
  },
  {
   "cell_type": "code",
   "execution_count": 56,
   "metadata": {},
   "outputs": [],
   "source": [
    "def twoSum(nums,target):\n",
    "        for i in nums:\n",
    "            for j in nums[1+nums.index(i):]:\n",
    "                if (i+j==target):\n",
    "                    return [nums.index(i),nums.index(j)]"
   ]
  },
  {
   "cell_type": "code",
   "execution_count": 57,
   "metadata": {},
   "outputs": [
    {
     "data": {
      "text/plain": [
       "[2, 2]"
      ]
     },
     "execution_count": 57,
     "metadata": {},
     "output_type": "execute_result"
    }
   ],
   "source": [
    "twoSum([1,2,3,3],6)"
   ]
  },
  {
   "cell_type": "markdown",
   "metadata": {},
   "source": [
    "## 几个简单答案"
   ]
  },
  {
   "cell_type": "markdown",
   "metadata": {},
   "source": [
    "标准答案——双重循环穷举法"
   ]
  },
  {
   "cell_type": "code",
   "execution_count": 18,
   "metadata": {},
   "outputs": [],
   "source": [
    "def twoSum1(nums,target):\n",
    "        n = len(nums)\n",
    "        for i in range(n):\n",
    "            for j in range(i + 1, n):#从i后面的元素开始枚举，避免元素重复\n",
    "                if nums[i] + nums[j] == target:\n",
    "                    return [i, j]\n"
   ]
  },
  {
   "cell_type": "code",
   "execution_count": 38,
   "metadata": {},
   "outputs": [
    {
     "data": {
      "text/plain": [
       "[0, 1]"
      ]
     },
     "execution_count": 38,
     "metadata": {},
     "output_type": "execute_result"
    }
   ],
   "source": [
    "twoSum1([4,2,3,3],6)"
   ]
  },
  {
   "cell_type": "code",
   "execution_count": 26,
   "metadata": {},
   "outputs": [],
   "source": [
    "nums=[1,2,3,3]"
   ]
  },
  {
   "cell_type": "code",
   "execution_count": 35,
   "metadata": {},
   "outputs": [
    {
     "data": {
      "text/plain": [
       "[3]"
      ]
     },
     "execution_count": 35,
     "metadata": {},
     "output_type": "execute_result"
    }
   ],
   "source": [
    "nums[1+nums.index(3):]"
   ]
  },
  {
   "cell_type": "code",
   "execution_count": 29,
   "metadata": {},
   "outputs": [
    {
     "data": {
      "text/plain": [
       "[2, 3, 3]"
      ]
     },
     "execution_count": 29,
     "metadata": {},
     "output_type": "execute_result"
    }
   ],
   "source": [
    "nums[1:]"
   ]
  },
  {
   "cell_type": "code",
   "execution_count": null,
   "metadata": {},
   "outputs": [],
   "source": []
  },
  {
   "cell_type": "markdown",
   "metadata": {},
   "source": [
    "答案2——查看另一半是否在列表中"
   ]
  },
  {
   "cell_type": "code",
   "execution_count": 65,
   "metadata": {},
   "outputs": [],
   "source": [
    "def twoSum2(nums, target):\n",
    "    lens = len(nums)\n",
    "    for i in range(1,lens):\n",
    "        temp = nums[:i]\n",
    "        if (target - nums[i]) in temp:\n",
    "            j = temp.index(target - nums[i])\n",
    "            return [j,i]\n"
   ]
  },
  {
   "cell_type": "code",
   "execution_count": 68,
   "metadata": {},
   "outputs": [
    {
     "data": {
      "text/plain": [
       "[2, 3]"
      ]
     },
     "execution_count": 68,
     "metadata": {},
     "output_type": "execute_result"
    }
   ],
   "source": [
    "twoSum2([1,2,3,3],6)"
   ]
  },
  {
   "cell_type": "markdown",
   "metadata": {},
   "source": [
    "答案3——哈希表"
   ]
  },
  {
   "cell_type": "code",
   "execution_count": 3,
   "metadata": {},
   "outputs": [],
   "source": [
    "def twoSum3(nums,target):\n",
    "    hashtable=dict() #创建一个字典作为哈希表\n",
    "    for i,num in enumerate(nums):#i是每个元素的位置，num是每个元素\n",
    "        if target-num in hashtable:\n",
    "            return [hashtable[target-num],i] #返回另一半在哈希表的值（也就是其位置），以及当前元素的位置\n",
    "        hashtable[num]=i #哈希表的键是num，值是i"
   ]
  },
  {
   "cell_type": "code",
   "execution_count": 6,
   "metadata": {},
   "outputs": [
    {
     "data": {
      "text/plain": [
       "[0, 2]"
      ]
     },
     "execution_count": 6,
     "metadata": {},
     "output_type": "execute_result"
    }
   ],
   "source": [
    "twoSum3([3,2,3,3],6)"
   ]
  },
  {
   "cell_type": "markdown",
   "metadata": {},
   "source": [
    "## 扩展1\n",
    "\n",
    "以上方法只返回首次找到的一组数字对，不会返回所有数字对。\n",
    "\n",
    "试改进算法，能够返回所有符合条件的数字对。"
   ]
  },
  {
   "cell_type": "markdown",
   "metadata": {},
   "source": [
    "基于标准答案1（穷举法）的改进。自己写的。"
   ]
  },
  {
   "cell_type": "code",
   "execution_count": 7,
   "metadata": {},
   "outputs": [],
   "source": [
    "def twoSum4(nums,target):\n",
    "        n = len(nums)\n",
    "        a=[]\n",
    "        for i in range(n):\n",
    "            for j in range(i + 1, n):#从i后面的元素开始枚举，避免元素重复\n",
    "                if nums[i] + nums[j] == target:\n",
    "                    a.append([i, j])\n",
    "        return a"
   ]
  },
  {
   "cell_type": "code",
   "execution_count": 9,
   "metadata": {},
   "outputs": [
    {
     "data": {
      "text/plain": [
       "[[1, 2], [3, 4], [3, 5], [4, 5]]"
      ]
     },
     "execution_count": 9,
     "metadata": {},
     "output_type": "execute_result"
    }
   ],
   "source": [
    "twoSum4([1,2,4,3,3,3],6)"
   ]
  },
  {
   "cell_type": "markdown",
   "metadata": {},
   "source": [
    "## 扩展2\n",
    "\n",
    "三数之和。返回首次找到的一组数字即可。\n",
    "\n",
    "如果可以，改进算法，返回所有的数字组合。"
   ]
  },
  {
   "cell_type": "code",
   "execution_count": null,
   "metadata": {},
   "outputs": [],
   "source": []
  },
  {
   "cell_type": "code",
   "execution_count": null,
   "metadata": {},
   "outputs": [],
   "source": []
  },
  {
   "cell_type": "markdown",
   "metadata": {},
   "source": [
    "## 扩展3\n",
    "\n",
    "一般化，k数之和。输入一个包含n个数字的列表，返回其中k数之和为target的所有数字组合。\n",
    "\n",
    "def kSum(nums,target,k)"
   ]
  },
  {
   "cell_type": "code",
   "execution_count": null,
   "metadata": {},
   "outputs": [],
   "source": []
  },
  {
   "cell_type": "code",
   "execution_count": null,
   "metadata": {},
   "outputs": [],
   "source": []
  },
  {
   "cell_type": "markdown",
   "metadata": {},
   "source": [
    "## 扩展4\n",
    "\n",
    "输入一个包含n个数字的列表，返回其中所有和为target的数字组合。\n",
    "\n",
    "如：输入 [1,2,3,3,4]\n",
    "\n",
    "   输出 [2,4],[3,3],[1,2,3],[1,2,3]\n",
    "   \n",
    "def augendCombination(nums,target)"
   ]
  },
  {
   "cell_type": "code",
   "execution_count": null,
   "metadata": {},
   "outputs": [],
   "source": []
  },
  {
   "cell_type": "code",
   "execution_count": null,
   "metadata": {},
   "outputs": [],
   "source": []
  },
  {
   "cell_type": "markdown",
   "metadata": {},
   "source": [
    "## 扩展5\n",
    "\n",
    "使用查找算法优化TwoSum原题标准答案的查找方式。\n",
    "\n",
    "参考https://leetcode-cn.com/problems/two-sum/solution/zhu-jian-you-hua-yi-zhi-dao-zui-you-pei-sexli/"
   ]
  },
  {
   "cell_type": "code",
   "execution_count": null,
   "metadata": {},
   "outputs": [],
   "source": []
  }
 ],
 "metadata": {
  "kernelspec": {
   "display_name": "Python 3",
   "language": "python",
   "name": "python3"
  },
  "language_info": {
   "codemirror_mode": {
    "name": "ipython",
    "version": 3
   },
   "file_extension": ".py",
   "mimetype": "text/x-python",
   "name": "python",
   "nbconvert_exporter": "python",
   "pygments_lexer": "ipython3",
   "version": "3.7.6"
  }
 },
 "nbformat": 4,
 "nbformat_minor": 4
}
