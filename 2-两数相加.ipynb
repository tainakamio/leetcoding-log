{
 "cells": [
  {
   "cell_type": "code",
   "execution_count": 1,
   "metadata": {},
   "outputs": [],
   "source": [
    "#题干中已给出的部分，定义节点class\n",
    "\n",
    "class ListNode:\n",
    "    def __init__(self, val=0, next=None):\n",
    "         self.val = val\n",
    "         self.next = next"
   ]
  },
  {
   "cell_type": "markdown",
   "metadata": {},
   "source": [
    "## 自己写的"
   ]
  },
  {
   "cell_type": "code",
   "execution_count": 18,
   "metadata": {},
   "outputs": [],
   "source": [
    "def addTwoNumbers(l1,l2):\n",
    "        head=ListNode()#固定链表的开头\n",
    "        cur=ListNode()#指针节点，初始化值为0，接地\n",
    "        head.next=cur\n",
    "        b=0 #用来存储是否进位，初始化为0\n",
    "\n",
    "        while l1!=None or l2!=None:\n",
    "            newpoint=ListNode(0)\n",
    "            if l1!=None and l2!=None:\n",
    "                a=l1.val+l2.val\n",
    "                if a==9 and b:\n",
    "                    newpoint.val=0\n",
    "                    b=1\n",
    "                else:\n",
    "                    newpoint.val=(a+b)%10\n",
    "                    b=(a+b)//10\n",
    "                l1=l1.next\n",
    "                l2=l2.next\n",
    "            elif l1!=None and l2==None:\n",
    "                a=l1.val\n",
    "                if a==9 and b:\n",
    "                    newpoint.val=0\n",
    "                    b=1\n",
    "                else:\n",
    "                    newpoint.val=a+b\n",
    "                    b=0\n",
    "                l1=l1.next\n",
    "            elif l1==None and l2!=None:\n",
    "                a=l2.val\n",
    "                if a==9 and b:\n",
    "                    newpoint.val=0\n",
    "                    b=1\n",
    "                else:\n",
    "                    newpoint.val=a+b\n",
    "                    b=0\n",
    "                l2=l2.next\n",
    "            cur.next=newpoint #将新节点newpoint与链表连接起来\n",
    "            cur=cur.next#指针移到新节点处\n",
    "\n",
    "        if b:\n",
    "            newpoint=ListNode(1)\n",
    "            cur.next=newpoint\n",
    "            \n",
    "        return head.next.next #head后面第一个是值为0的节点，再后面才是第一个答案节点\n"
   ]
  },
  {
   "cell_type": "markdown",
   "metadata": {},
   "source": [
    "答案1\n",
    "\n",
    "（from https://leetcode-cn.com/problems/add-two-numbers/solution/liang-shu-xiang-jia-by-leetcode-solution/）"
   ]
  },
  {
   "cell_type": "code",
   "execution_count": 27,
   "metadata": {},
   "outputs": [],
   "source": [
    "def addTwoNumbers2(l1,l2):\n",
    "        head=ListNode()\n",
    "        carry=0\n",
    "        val=0\n",
    "        cur=ListNode()\n",
    "        head.next=cur\n",
    "\n",
    "        while l1 or l2:\n",
    "            val=carry\n",
    "        #两个if层层相加\n",
    "            if l1:\n",
    "                val+=l1.val\n",
    "                l1=l1.next\n",
    "            if l2:\n",
    "                val+=l2.val\n",
    "                l2=l2.next\n",
    "            carry,val=divmod(val,10) #divmod依次返回整数除数、余数\n",
    "            cur.next=ListNode(val)\n",
    "            cur=cur.next\n",
    "        \n",
    "        if carry:\n",
    "            cur.next=ListNode(1)\n",
    "            cur=cur.next\n",
    "            \n",
    "        return head.next.next"
   ]
  },
  {
   "cell_type": "code",
   "execution_count": null,
   "metadata": {},
   "outputs": [],
   "source": []
  }
 ],
 "metadata": {
  "kernelspec": {
   "display_name": "Python 3",
   "language": "python",
   "name": "python3"
  },
  "language_info": {
   "codemirror_mode": {
    "name": "ipython",
    "version": 3
   },
   "file_extension": ".py",
   "mimetype": "text/x-python",
   "name": "python",
   "nbconvert_exporter": "python",
   "pygments_lexer": "ipython3",
   "version": "3.7.6"
  }
 },
 "nbformat": 4,
 "nbformat_minor": 4
}
